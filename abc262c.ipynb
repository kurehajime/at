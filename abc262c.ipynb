{
  "nbformat": 4,
  "nbformat_minor": 0,
  "metadata": {
    "colab": {
      "provenance": [],
      "authorship_tag": "ABX9TyMeEqLiPArbcIH3GHId6+jz",
      "include_colab_link": true
    },
    "kernelspec": {
      "name": "python3",
      "display_name": "Python 3"
    },
    "language_info": {
      "name": "python"
    }
  },
  "cells": [
    {
      "cell_type": "markdown",
      "metadata": {
        "id": "view-in-github",
        "colab_type": "text"
      },
      "source": [
        "<a href=\"https://colab.research.google.com/github/kurehajime/at/blob/main/abc262c.ipynb\" target=\"_parent\"><img src=\"https://colab.research.google.com/assets/colab-badge.svg\" alt=\"Open In Colab\"/></a>"
      ]
    },
    {
      "cell_type": "code",
      "execution_count": 3,
      "metadata": {
        "colab": {
          "base_uri": "https://localhost:8080/"
        },
        "id": "lo5DHThW1Y8x",
        "outputId": "1c68a465-a90d-436f-fb3d-b3853d68a15a"
      },
      "outputs": [
        {
          "name": "stdout",
          "output_type": "stream",
          "text": [
            "4\n",
            "1 3 2 4\n"
          ]
        }
      ],
      "source": [
        "n = int(input())\n",
        "arr = list(map(int,input().split(' ')))"
      ]
    },
    {
      "cell_type": "code",
      "source": [
        "hits = len(list(filter(lambda x: x[0]+ 1  == x[1]  ,enumerate(arr) )))\n",
        "duo = len(list(filter(lambda i: not(arr[i] == i + 1)  and  i + 1  == arr[arr[i]-1]  ,range(0,len(arr)) ))) / 2\n",
        "\n",
        "result = ((hits * (hits-1)) /2 ) + duo\n",
        "print(result)"
      ],
      "metadata": {
        "colab": {
          "base_uri": "https://localhost:8080/"
        },
        "id": "gfULSwwh1z9Z",
        "outputId": "3097168e-66af-408a-f14d-8145946e1b14"
      },
      "execution_count": 18,
      "outputs": [
        {
          "output_type": "stream",
          "name": "stdout",
          "text": [
            "2.0\n"
          ]
        }
      ]
    }
  ]
}